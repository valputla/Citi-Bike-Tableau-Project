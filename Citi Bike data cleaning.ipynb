{
 "cells": [
  {
   "cell_type": "code",
   "execution_count": null,
   "id": "06a9abb9",
   "metadata": {},
   "outputs": [],
   "source": [
    "import pandas as pd\n",
    "import datetime as dt\n",
    "import matplotlib.pyplot as plt"
   ]
  },
  {
   "cell_type": "code",
   "execution_count": null,
   "id": "aed5a9f7",
   "metadata": {},
   "outputs": [],
   "source": [
    "# df_jan_2021 = pd.read_csv(\"/Users/lindseyvalput/Desktop/Citi-Bike-Tableau-Project/Resources/202101-citibike-tripdata.csv\")\n",
    "# df_jan_2022 = pd.read_csv(\"/Users/lindseyvalput/Desktop/Citi-Bike-Tableau-Project/Resources/202201-citibike-tripdata.csv\")"
   ]
  },
  {
   "cell_type": "code",
   "execution_count": null,
   "id": "76716767",
   "metadata": {},
   "outputs": [],
   "source": [
    "df_jan_2021.nunique()"
   ]
  },
  {
   "cell_type": "code",
   "execution_count": null,
   "id": "57584277",
   "metadata": {},
   "outputs": [],
   "source": [
    "df_jan_2022 = df_jan_2022.dropna()"
   ]
  },
  {
   "cell_type": "code",
   "execution_count": null,
   "id": "af638cf0",
   "metadata": {},
   "outputs": [],
   "source": [
    "df_jan_2022.isna().sum()"
   ]
  },
  {
   "cell_type": "code",
   "execution_count": null,
   "id": "4af2d3c1",
   "metadata": {},
   "outputs": [],
   "source": [
    "df_jan_2022.dtypes"
   ]
  },
  {
   "cell_type": "code",
   "execution_count": null,
   "id": "04290dd5",
   "metadata": {},
   "outputs": [],
   "source": [
    "del df_jan_2022['ride_id']"
   ]
  },
  {
   "cell_type": "code",
   "execution_count": null,
   "id": "c5db079b",
   "metadata": {},
   "outputs": [],
   "source": [
    "plt.scatter(df_jan_2022[\"end_lat\"], df_jan_2022[\"end_lng\"])\n",
    "plt.show()"
   ]
  },
  {
   "cell_type": "code",
   "execution_count": null,
   "id": "71fca847",
   "metadata": {},
   "outputs": [],
   "source": [
    "plt.scatter(df_jan_2022[\"start_lat\"], df_jan_2022[\"start_lng\"])\n",
    "plt.show()"
   ]
  },
  {
   "cell_type": "code",
   "execution_count": null,
   "id": "e7dd0f7a",
   "metadata": {},
   "outputs": [],
   "source": [
    "# df_jan_2022"
   ]
  },
  {
   "cell_type": "code",
   "execution_count": null,
   "id": "3ad20e99",
   "metadata": {},
   "outputs": [],
   "source": [
    "total_bike_count = df_jan_2022[\"member_casual\"].value_counts()\n",
    "rideable_type = df_jan_2022[\"rideable_type\"].value_counts()"
   ]
  },
  {
   "cell_type": "code",
   "execution_count": null,
   "id": "cf3bc651",
   "metadata": {},
   "outputs": [],
   "source": [
    "total_bike_count.plot(kind='bar')\n",
    "plt.show()"
   ]
  },
  {
   "cell_type": "code",
   "execution_count": null,
   "id": "f1771d9e",
   "metadata": {},
   "outputs": [],
   "source": [
    "rideable_type.plot(kind='bar')\n",
    "plt.show()"
   ]
  },
  {
   "cell_type": "code",
   "execution_count": null,
   "id": "d4574673",
   "metadata": {},
   "outputs": [],
   "source": [
    "start_station = df_jan_2022['start_station_name'].value_counts(ascending=False).nlargest(25)\n",
    "start_station"
   ]
  },
  {
   "cell_type": "code",
   "execution_count": null,
   "id": "e5cf980d",
   "metadata": {},
   "outputs": [],
   "source": [
    "start_station.plot(kind=\"bar\")\n",
    "plt.show()"
   ]
  },
  {
   "cell_type": "code",
   "execution_count": null,
   "id": "c8e8f7f7",
   "metadata": {},
   "outputs": [],
   "source": [
    "df_jan_2021['start_date'] = df_jan_2021['starttime'].str.split(' ',expand=True)[0]\n",
    "df_jan_2021['stop_date'] = df_jan_2021['stoptime'].str.split(' ',expand=True)[0]"
   ]
  },
  {
   "cell_type": "code",
   "execution_count": null,
   "id": "b0bcffc0",
   "metadata": {},
   "outputs": [],
   "source": [
    "# del df_jan_2021['starttime']\n",
    "# del df_jan_2021['stoptime']\n",
    "del df_jan_2021['bikeid']"
   ]
  },
  {
   "cell_type": "code",
   "execution_count": null,
   "id": "2bc89e65",
   "metadata": {},
   "outputs": [],
   "source": [
    "df_jan_2021 = df_jan_2021[(df_jan_2021['start_date'] >= '2021-01-01') & (df_jan_2021['start_date'] <= '2021-01-31')]\n",
    "\n"
   ]
  },
  {
   "cell_type": "code",
   "execution_count": null,
   "id": "7e115fc0",
   "metadata": {},
   "outputs": [],
   "source": [
    "df_jan_2021_cleaned = df_jan_2021[(df_jan_2021['stop_date'] >= '2021-01-01') & (df_jan_2021['stop_date'] <= '2021-01-31')]\n",
    "\n"
   ]
  },
  {
   "cell_type": "code",
   "execution_count": null,
   "id": "c69aaaac",
   "metadata": {},
   "outputs": [],
   "source": [
    "df_jan_2021_cleaned['trip_duration_min'] = round(df_jan_2021_cleaned['tripduration']/60, 2)"
   ]
  },
  {
   "cell_type": "code",
   "execution_count": null,
   "id": "d57d52d8",
   "metadata": {},
   "outputs": [],
   "source": [
    "# del df_jan_2021_cleaned['tripduration']\n",
    "\n",
    "# df_jan_2021_cleaned = df_jan_2021_cleaned.reset_index()\n"
   ]
  },
  {
   "cell_type": "code",
   "execution_count": null,
   "id": "5fac92f3",
   "metadata": {},
   "outputs": [],
   "source": [
    "# df_jan_2021_cleaned.head()"
   ]
  },
  {
   "cell_type": "code",
   "execution_count": null,
   "id": "e2013423",
   "metadata": {},
   "outputs": [],
   "source": [
    "df_jan_2021_cleaned[\"birth year\"].min()"
   ]
  },
  {
   "cell_type": "code",
   "execution_count": null,
   "id": "7cf85c14",
   "metadata": {},
   "outputs": [],
   "source": [
    "df_jan_2021_cleaned[\"birth year\"].max()"
   ]
  },
  {
   "cell_type": "code",
   "execution_count": null,
   "id": "09286bd5",
   "metadata": {},
   "outputs": [],
   "source": [
    "df_jan_2021_cleaned[\"age\"] = 2022 - df_jan_2021_cleaned[\"birth year\"]"
   ]
  },
  {
   "cell_type": "code",
   "execution_count": null,
   "id": "5a6deb56",
   "metadata": {},
   "outputs": [],
   "source": [
    "df_jan_2021_cleaned[\"age\"].min()"
   ]
  },
  {
   "cell_type": "code",
   "execution_count": null,
   "id": "21d5bb1b",
   "metadata": {},
   "outputs": [],
   "source": [
    "df_jan_2021_cleaned[\"age\"].max()"
   ]
  },
  {
   "cell_type": "code",
   "execution_count": null,
   "id": "d2517c5f",
   "metadata": {},
   "outputs": [],
   "source": [
    "df_jan_2021_cleaned = df_jan_2021_cleaned.loc[df_jan_2021_cleaned[\"age\"]<= 90, :]"
   ]
  },
  {
   "cell_type": "code",
   "execution_count": null,
   "id": "24c43737",
   "metadata": {},
   "outputs": [],
   "source": [
    "# df_jan_2021_cleaned.head()"
   ]
  },
  {
   "cell_type": "code",
   "execution_count": null,
   "id": "de9a0135",
   "metadata": {},
   "outputs": [],
   "source": [
    "df_jan_2021_cleaned = df_jan_2021_cleaned.rename(columns={'usertype': 'member_casual'})"
   ]
  },
  {
   "cell_type": "code",
   "execution_count": null,
   "id": "fa5dd67b",
   "metadata": {},
   "outputs": [],
   "source": [
    "df_jan_2021_cleaned['member_casual'] = df_jan_2021_cleaned['member_casual'].str.replace('Customer', 'Casual')"
   ]
  },
  {
   "cell_type": "code",
   "execution_count": null,
   "id": "b4f0ee5f",
   "metadata": {},
   "outputs": [],
   "source": [
    "df_jan_2021_cleaned['member_casual'] = df_jan_2021_cleaned['member_casual'].str.replace('Subscriber', 'Member')"
   ]
  },
  {
   "cell_type": "code",
   "execution_count": null,
   "id": "ddcffe3b",
   "metadata": {},
   "outputs": [],
   "source": [
    "df_jan_2022.to_csv(\"Resources/cleanedJan2022.csv\", index=False, encoding=\"ISO-8859-1\")\n",
    "df_jan_2021_cleaned.to_csv(\"Resources/cleanedJan2021.csv\", index=False, encoding=\"ISO-8859-1\")\n"
   ]
  }
 ],
 "metadata": {
  "kernelspec": {
   "display_name": "Python [conda env:PythonData38] *",
   "language": "python",
   "name": "conda-env-PythonData38-py"
  },
  "language_info": {
   "codemirror_mode": {
    "name": "ipython",
    "version": 3
   },
   "file_extension": ".py",
   "mimetype": "text/x-python",
   "name": "python",
   "nbconvert_exporter": "python",
   "pygments_lexer": "ipython3",
   "version": "3.8.12"
  }
 },
 "nbformat": 4,
 "nbformat_minor": 5
}
